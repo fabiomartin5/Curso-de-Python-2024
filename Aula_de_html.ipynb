{
  "nbformat": 4,
  "nbformat_minor": 0,
  "metadata": {
    "colab": {
      "provenance": [],
      "authorship_tag": "ABX9TyOdXVP5wRjCNn/VIafK4Y4h",
      "include_colab_link": true
    },
    "kernelspec": {
      "name": "python3",
      "display_name": "Python 3"
    },
    "language_info": {
      "name": "python"
    }
  },
  "cells": [
    {
      "cell_type": "markdown",
      "metadata": {
        "id": "view-in-github",
        "colab_type": "text"
      },
      "source": [
        "<a href=\"https://colab.research.google.com/github/fabiomartin5/Curso-de-Python-2024/blob/main/Aula_de_html.ipynb\" target=\"_parent\"><img src=\"https://colab.research.google.com/assets/colab-badge.svg\" alt=\"Open In Colab\"/></a>"
      ]
    },
    {
      "cell_type": "code",
      "execution_count": 29,
      "metadata": {
        "colab": {
          "base_uri": "https://localhost:8080/",
          "height": 314
        },
        "id": "FricKPwNuTBG",
        "outputId": "f101a9ef-d303-43a4-8422-a3988c480fa9"
      },
      "outputs": [
        {
          "output_type": "display_data",
          "data": {
            "text/plain": [
              "<IPython.core.display.HTML object>"
            ],
            "text/html": [
              "\n",
              "<!DOCTYPE html>\n",
              "<html>\n",
              "<head>\n",
              "  <title>Data</title>\n",
              "</head>\n",
              "<body>\n",
              "  <h1>Isso é um título</h1>\n",
              "  <h2>Isso é um subtítulo</h2>\n",
              "  <h3>Isso é um subsubtítulo</h3>\n",
              "  <p class=\"texto_vermelho\">Isso é um texto</p>\n",
              "  <p class=\"texto_vermelho\">Isso é um texto</p>\n",
              "  <p id=\"pzinho\">São Paulo Tri Campeão do Mundo</p>\n",
              "  <p>Isso é um texto</p>\n",
              "  <a href=\"https://google.com\">isso é um link</a>\n",
              "\n",
              "  <div>\n",
              "      <p>Caixinha</p>\n",
              "      <a href=\"\">isso é um link</a>\n",
              "</body>\n",
              "<style>\n",
              "  h1 {\n",
              "    color: red;\n",
              "  }\n",
              "  h2 {\n",
              "    color: green;\n",
              "  }\n",
              "  h3 {\n",
              "    color: blue;\n",
              "  }\n",
              "  p {\n",
              "    color: blue;\n",
              "  }\n",
              "  a {\n",
              "    color: red;\n",
              "  }\n",
              "  .texto_vermelho {\n",
              "    color: red;\n",
              "  }\n",
              "  #pzinho {\n",
              "      color: orange;\n",
              "    font- georgia;\n",
              "  }\n",
              "</style>\n",
              "</html>\n"
            ]
          },
          "metadata": {}
        }
      ],
      "source": [
        "from IPython.core.display import display, HTML\n",
        "\n",
        "html_code = \"\"\"\n",
        "<!DOCTYPE html>\n",
        "<html>\n",
        "<head>\n",
        "  <title>Data</title>\n",
        "</head>\n",
        "<body>\n",
        "  <h1>Isso é um título</h1>\n",
        "  <h2>Isso é um subtítulo</h2>\n",
        "  <h3>Isso é um subsubtítulo</h3>\n",
        "  <p class=\"texto_vermelho\">Isso é um texto</p>\n",
        "  <p class=\"texto_vermelho\">Isso é um texto</p>\n",
        "  <p id=\"pzinho\">São Paulo Tri Campeão do Mundo</p>\n",
        "  <p>Isso é um texto</p>\n",
        "  <a href=\"https://google.com\">isso é um link</a>\n",
        "\n",
        "  <div>\n",
        "      <p>Caixinha</p>\n",
        "      <a href=\"\">isso é um link</a>\n",
        "</body>\n",
        "<style>\n",
        "  h1 {\n",
        "    color: red;\n",
        "  }\n",
        "  h2 {\n",
        "    color: green;\n",
        "  }\n",
        "  h3 {\n",
        "    color: blue;\n",
        "  }\n",
        "  p {\n",
        "    color: blue;\n",
        "  }\n",
        "  a {\n",
        "    color: red;\n",
        "  }\n",
        "  .texto_vermelho {\n",
        "    color: red;\n",
        "  }\n",
        "  #pzinho {\n",
        "      color: orange;\n",
        "    font- georgia;\n",
        "  }\n",
        "</style>\n",
        "</html>\n",
        "\"\"\"\n",
        "\n",
        "display(HTML(html_code))\n",
        "\n",
        "\n",
        "\n"
      ]
    }
  ]
}