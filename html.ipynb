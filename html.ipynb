{
  "nbformat": 4,
  "nbformat_minor": 0,
  "metadata": {
    "colab": {
      "provenance": [],
      "authorship_tag": "ABX9TyMH24LmxVVVyA2UEGcRY4kk",
      "include_colab_link": true
    },
    "kernelspec": {
      "name": "python3",
      "display_name": "Python 3"
    },
    "language_info": {
      "name": "python"
    }
  },
  "cells": [
    {
      "cell_type": "markdown",
      "metadata": {
        "id": "view-in-github",
        "colab_type": "text"
      },
      "source": [
        "<a href=\"https://colab.research.google.com/github/fabiomartin5/Curso-de-Python-2024/blob/main/html.ipynb\" target=\"_parent\"><img src=\"https://colab.research.google.com/assets/colab-badge.svg\" alt=\"Open In Colab\"/></a>"
      ]
    },
    {
      "cell_type": "code",
      "execution_count": 5,
      "metadata": {
        "id": "RYU8GXUDQlzf"
      },
      "outputs": [],
      "source": [
        "from bs4 import BeautifulSoup"
      ]
    },
    {
      "cell_type": "markdown",
      "source": [
        "Conseguindo o html do arquivo"
      ],
      "metadata": {
        "id": "Tbgk2lTmQ5lQ"
      }
    },
    {
      "cell_type": "code",
      "source": [
        "with open('bs.html', 'r') as arq:\n",
        "    html = arq.read()#texto html\n",
        "    soup = BeautifulSoup(html,\"lxml\")\n",
        "    print(soup.prettify())"
      ],
      "metadata": {
        "colab": {
          "base_uri": "https://localhost:8080/"
        },
        "id": "z8wOOFaEQ8pu",
        "outputId": "388ad5da-5455-470c-c72d-47f5846361f4"
      },
      "execution_count": 8,
      "outputs": [
        {
          "output_type": "stream",
          "name": "stdout",
          "text": [
            "<!DOCTYPE html>\n",
            "<html lang=\"en\">\n",
            " <head>\n",
            "  <meta charset=\"utf-8\"/>\n",
            "  <meta content=\"width=device-width, initial-scale=1.0\" name=\"viewport\"/>\n",
            "  <title>\n",
            "   BS\n",
            "  </title>\n",
            "  <style>\n",
            "   body {\n",
            "            font-family: Arial, sans-serif;\n",
            "            margin: 20px;\n",
            "        }\n",
            "        div {\n",
            "            background-color: #f4f4f4;\n",
            "            padding: 20px;\n",
            "            border-radius: 10px;\n",
            "            max-width: 600px;\n",
            "            margin: 20px auto;\n",
            "        }\n",
            "        p {\n",
            "            margin-bottom: 15px;\n",
            "        }\n",
            "        .content{\n",
            "            border: 3px solid black;\n",
            "            border-radius: 10px;\n",
            "        }\n",
            "        .extra-1 {\n",
            "            background-color: #ffe4e1;\n",
            "        }\n",
            "        .extra-2 {\n",
            "            background-color: #e1ffe4;\n",
            "        }\n",
            "        .extra-3 {\n",
            "            background-color: #e1e4ff;\n",
            "        }\n",
            "        .extra-4 {\n",
            "            background-color: #fff1e1;\n",
            "        }\n",
            "        .extra-5 {\n",
            "            background-color: #e1fff1;\n",
            "        }\n",
            "  </style>\n",
            " </head>\n",
            " <body>\n",
            "  <div class=\"extra-1\">\n",
            "   <p>\n",
            "    Lorem ipsum dolor sit amet, consectetur adipiscing elit. Vivamus lacinia odio vitae vestibulum vestibulum.\n",
            "   </p>\n",
            "   <p>\n",
            "    Cras venenatis euismod malesuada. Nullam nec erat orci. Integer eu mi nec magna efficitur bibendum.\n",
            "   </p>\n",
            "   <p>\n",
            "    Sed viverra risus a lorem bibendum, in tincidunt libero dictum. Pellentesque habitant morbi tristique senectus.\n",
            "   </p>\n",
            "   <p>\n",
            "    Donec at risus eu felis lobortis pharetra id nec mauris. Proin consequat est at velit vulputate.\n",
            "   </p>\n",
            "   <p>\n",
            "    Aenean sit amet sapien eu justo viverra cursus nec sed libero. Aliquam sit amet nibh interdum.\n",
            "   </p>\n",
            "  </div>\n",
            "  <div class=\"extra-2\">\n",
            "   <p>\n",
            "    Aliquam sit amet nibh interdum, facilisis urna quis, suscipit orci. Mauris in ligula quis orci condimentum suscipit.\n",
            "   </p>\n",
            "   <p>\n",
            "    Mauris in ligula quis orci condimentum suscipit. Suspendisse ultrices velit ut neque suscipit.\n",
            "   </p>\n",
            "   <p>\n",
            "    Aenean congue arcu sed erat feugiat, a fermentum elit pretium. Praesent non feugiat orci.\n",
            "   </p>\n",
            "   <p>\n",
            "    Etiam interdum purus in lorem efficitur, sit amet feugiat sapien pretium. Quisque ut orci vel velit gravida bibendum.\n",
            "   </p>\n",
            "   <p>\n",
            "    Nam a risus viverra, ullamcorper velit eget, cursus justo. Fusce vulputate turpis sed varius volutpat.\n",
            "   </p>\n",
            "  </div>\n",
            "  <div class=\"content\">\n",
            "   <p>\n",
            "    Texto alvo\n",
            "   </p>\n",
            "   <p>\n",
            "    Lorem ipsum dolor sit amet, consectetur adipiscing elit. Vivamus lacinia odio vitae vestibulum vestibulum.\n",
            "   </p>\n",
            "   <p>\n",
            "    Nullam nec erat orci. Integer eu mi nec magna efficitur bibendum. Sed viverra risus a lorem bibendum, in tincidunt libero dictum.\n",
            "   </p>\n",
            "   <p>\n",
            "    Pellentesque habitant morbi tristique senectus et netus et malesuada fames ac turpis egestas. Donec at risus eu felis lobortis pharetra id nec mauris.\n",
            "   </p>\n",
            "   <p>\n",
            "    Proin consequat est at velit vulputate, at facilisis tortor vulputate. Aenean sit amet sapien eu justo viverra cursus nec sed libero.\n",
            "   </p>\n",
            "   <p>\n",
            "    Aliquam sit amet nibh interdum, facilisis urna quis, suscipit orci. Mauris in ligula quis orci condimentum suscipit sed sit amet eros.\n",
            "   </p>\n",
            "  </div>\n",
            "  <div class=\"extra-3\">\n",
            "   <p>\n",
            "    Nullam a leo odio. Phasellus vel odio in mi convallis sollicitudin. Donec eget risus feugiat, scelerisque neque et, cursus orci.\n",
            "   </p>\n",
            "   <p>\n",
            "    Phasellus interdum justo ac erat auctor, in egestas justo malesuada. Maecenas nec tellus a nibh fringilla ullamcorper non sed ex.\n",
            "   </p>\n",
            "   <p>\n",
            "    Quisque vestibulum ligula ac tincidunt luctus. Nulla facilisi. Praesent eget velit auctor, pellentesque velit quis, tincidunt libero.\n",
            "   </p>\n",
            "   <p>\n",
            "    Vestibulum vehicula felis nec velit elementum, id vulputate velit efficitur. Vivamus pharetra magna quis viverra feugiat.\n",
            "   </p>\n",
            "   <p>\n",
            "    Pellentesque fringilla nulla at ex rhoncus ultricies. Nullam volutpat augue eget ex vehicula posuere.\n",
            "   </p>\n",
            "  </div>\n",
            "  <div class=\"extra-4\">\n",
            "   <p>\n",
            "    Maecenas vehicula ligula et purus vehicula malesuada. Aliquam eu nisl non libero sodales ultricies eget id justo.\n",
            "   </p>\n",
            "   <p>\n",
            "    Donec eget risus feugiat, scelerisque neque et, cursus orci. Phasellus interdum justo ac erat auctor.\n",
            "   </p>\n",
            "   <p>\n",
            "    Nulla facilisi. Praesent eget velit auctor, pellentesque velit quis, tincidunt libero. Vestibulum vehicula felis nec velit elementum.\n",
            "   </p>\n",
            "   <p>\n",
            "    Vivamus pharetra magna quis viverra feugiat. Nulla facilisi. Pellentesque fringilla nulla at ex rhoncus ultricies.\n",
            "   </p>\n",
            "   <p>\n",
            "    Nullam volutpat augue eget ex vehicula posuere. Donec eget risus feugiat, scelerisque neque et, cursus orci.\n",
            "   </p>\n",
            "  </div>\n",
            "  <div class=\"extra-5\">\n",
            "   <p>\n",
            "    Vivamus scelerisque arcu vel varius egestas. Nulla facilisi. In ac orci a erat tempor aliquam et sit amet lectus.\n",
            "   </p>\n",
            "   <p>\n",
            "    Mauris dapibus, nulla non lacinia fringilla, sapien leo accumsan tortor, sit amet suscipit libero velit in libero.\n",
            "   </p>\n",
            "   <p>\n",
            "    Integer maximus purus id lorem efficitur condimentum. Duis mollis odio id velit egestas, vel accumsan libero vestibulum.\n",
            "   </p>\n",
            "   <p>\n",
            "    Sed bibendum, orci vel congue sagittis, nisi magna fermentum nisl, id auctor nunc elit a nisi.\n",
            "   </p>\n",
            "   <p>\n",
            "    Vestibulum nec lacus varius, vestibulum odio non, viverra justo. Fusce aliquam est ac metus malesuada.\n",
            "   </p>\n",
            "  </div>\n",
            " </body>\n",
            "</html>\n",
            "\n"
          ]
        }
      ]
    },
    {
      "cell_type": "markdown",
      "source": [
        "Extraindo dados que queremos\n"
      ],
      "metadata": {
        "id": "lsu3E_P2VM_r"
      }
    },
    {
      "cell_type": "code",
      "source": [],
      "metadata": {
        "id": "qP_bBmnIXAuQ"
      },
      "execution_count": null,
      "outputs": []
    },
    {
      "cell_type": "code",
      "source": [
        "from typing import Text\n",
        "divs_cont = soup.find_all('div', class_='content')\n",
        "cont = divs_cont[0]\n",
        "cont_ps = cont.find_all('p')\n",
        "Text = [p.text for p in cont_ps]\n",
        "print(Text)\n"
      ],
      "metadata": {
        "id": "Ocg1EAjqVVMF",
        "colab": {
          "base_uri": "https://localhost:8080/"
        },
        "outputId": "d0fe4acd-ba4a-4718-fccd-0beea6b9c132"
      },
      "execution_count": 13,
      "outputs": [
        {
          "output_type": "stream",
          "name": "stdout",
          "text": [
            "['Texto alvo', 'Lorem ipsum dolor sit amet, consectetur adipiscing elit. Vivamus lacinia odio vitae vestibulum vestibulum.', 'Nullam nec erat orci. Integer eu mi nec magna efficitur bibendum. Sed viverra risus a lorem bibendum, in tincidunt libero dictum.', 'Pellentesque habitant morbi tristique senectus et netus et malesuada fames ac turpis egestas. Donec at risus eu felis lobortis pharetra id nec mauris.', 'Proin consequat est at velit vulputate, at facilisis tortor vulputate. Aenean sit amet sapien eu justo viverra cursus nec sed libero.', 'Aliquam sit amet nibh interdum, facilisis urna quis, suscipit orci. Mauris in ligula quis orci condimentum suscipit sed sit amet eros.']\n"
          ]
        }
      ]
    }
  ]
}