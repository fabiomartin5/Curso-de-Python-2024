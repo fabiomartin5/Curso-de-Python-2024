{
  "nbformat": 4,
  "nbformat_minor": 0,
  "metadata": {
    "colab": {
      "provenance": [],
      "authorship_tag": "ABX9TyOBTERj/wDZ7MTz+peDoHoO",
      "include_colab_link": true
    },
    "kernelspec": {
      "name": "python3",
      "display_name": "Python 3"
    },
    "language_info": {
      "name": "python"
    }
  },
  "cells": [
    {
      "cell_type": "markdown",
      "metadata": {
        "id": "view-in-github",
        "colab_type": "text"
      },
      "source": [
        "<a href=\"https://colab.research.google.com/github/fabiomartin5/Curso-de-Python-2024/blob/main/Introdu%C3%A7%C3%A3o_ao_NumPy.ipynb\" target=\"_parent\"><img src=\"https://colab.research.google.com/assets/colab-badge.svg\" alt=\"Open In Colab\"/></a>"
      ]
    },
    {
      "cell_type": "code",
      "execution_count": 1,
      "metadata": {
        "id": "xg1-V3gpW1n7"
      },
      "outputs": [],
      "source": [
        "import numpy as np\n"
      ]
    },
    {
      "cell_type": "markdown",
      "source": [
        "Informações basicas de um array\n"
      ],
      "metadata": {
        "id": "iTsTEFS-XRu8"
      }
    },
    {
      "cell_type": "code",
      "source": [
        "## Gerando um array com duas listas\n",
        "arr = np.array([[1, 2, 3], [4, 5, 6]], int)\n",
        "arr"
      ],
      "metadata": {
        "colab": {
          "base_uri": "https://localhost:8080/"
        },
        "id": "QB29fRfgXVdk",
        "outputId": "2b777351-90f6-4609-dd38-82a9b38a79be"
      },
      "execution_count": 2,
      "outputs": [
        {
          "output_type": "execute_result",
          "data": {
            "text/plain": [
              "array([[1, 2, 3],\n",
              "       [4, 5, 6]])"
            ]
          },
          "metadata": {},
          "execution_count": 2
        }
      ]
    },
    {
      "cell_type": "code",
      "source": [
        "#shape\n",
        "arr.shape"
      ],
      "metadata": {
        "colab": {
          "base_uri": "https://localhost:8080/"
        },
        "id": "cJUBfnWvXnpn",
        "outputId": "db7ffdd0-f644-44ec-bf60-85cd9ac3659e"
      },
      "execution_count": 3,
      "outputs": [
        {
          "output_type": "execute_result",
          "data": {
            "text/plain": [
              "(2, 3)"
            ]
          },
          "metadata": {},
          "execution_count": 3
        }
      ]
    },
    {
      "cell_type": "code",
      "source": [
        "#ndim\n",
        "arr.ndim\n"
      ],
      "metadata": {
        "colab": {
          "base_uri": "https://localhost:8080/"
        },
        "id": "8XZD3ui5XvvK",
        "outputId": "3b413d9e-90ad-44fa-9732-88487f389220"
      },
      "execution_count": 4,
      "outputs": [
        {
          "output_type": "execute_result",
          "data": {
            "text/plain": [
              "2"
            ]
          },
          "metadata": {},
          "execution_count": 4
        }
      ]
    },
    {
      "cell_type": "code",
      "source": [
        "# dtype\n",
        "arr.dtype"
      ],
      "metadata": {
        "colab": {
          "base_uri": "https://localhost:8080/"
        },
        "id": "pvlfdC6OX3rI",
        "outputId": "e6bc4b98-ef9f-400b-e838-04e696a98fcb"
      },
      "execution_count": 5,
      "outputs": [
        {
          "output_type": "execute_result",
          "data": {
            "text/plain": [
              "dtype('int64')"
            ]
          },
          "metadata": {},
          "execution_count": 5
        }
      ]
    },
    {
      "cell_type": "code",
      "source": [
        "# Criando array com np.zeros\n",
        "arr = np.zeros((2, 2), int)\n",
        "arr"
      ],
      "metadata": {
        "colab": {
          "base_uri": "https://localhost:8080/"
        },
        "id": "mfaZYJ4bYD7P",
        "outputId": "643e521a-7ccf-468f-9a69-2db36b8ad201"
      },
      "execution_count": 6,
      "outputs": [
        {
          "output_type": "execute_result",
          "data": {
            "text/plain": [
              "array([[0, 0],\n",
              "       [0, 0]])"
            ]
          },
          "metadata": {},
          "execution_count": 6
        }
      ]
    },
    {
      "cell_type": "code",
      "source": [
        "# Criando array com np.identity\n",
        "arr = np.identity(3)\n",
        "arr"
      ],
      "metadata": {
        "colab": {
          "base_uri": "https://localhost:8080/"
        },
        "id": "URZ6UELqYNNj",
        "outputId": "d2eece76-2358-461e-b967-c4bb54dc70d5"
      },
      "execution_count": 7,
      "outputs": [
        {
          "output_type": "execute_result",
          "data": {
            "text/plain": [
              "array([[1., 0., 0.],\n",
              "       [0., 1., 0.],\n",
              "       [0., 0., 1.]])"
            ]
          },
          "metadata": {},
          "execution_count": 7
        }
      ]
    },
    {
      "cell_type": "markdown",
      "source": [
        "**Computação Vetorizada**\n",
        "\n",
        "Aritmética"
      ],
      "metadata": {
        "id": "v0OD31FKYYD8"
      }
    },
    {
      "cell_type": "code",
      "source": [
        "arr_1 = np.arange(5)\n",
        "\n",
        "arr_2 = np.arange(5, 10)\n",
        "\n",
        "print(arr_1)\n",
        "\n",
        "print(arr_2)"
      ],
      "metadata": {
        "colab": {
          "base_uri": "https://localhost:8080/"
        },
        "id": "qDOcXk-KYZnq",
        "outputId": "a3d364db-df6a-4972-8ae3-f498134765d5"
      },
      "execution_count": 8,
      "outputs": [
        {
          "output_type": "stream",
          "name": "stdout",
          "text": [
            "[0 1 2 3 4]\n",
            "[5 6 7 8 9]\n"
          ]
        }
      ]
    },
    {
      "cell_type": "code",
      "source": [
        "# Operação entre arrays\n",
        "arr_1 + arr_2"
      ],
      "metadata": {
        "colab": {
          "base_uri": "https://localhost:8080/"
        },
        "id": "Fi3BozoxZLmp",
        "outputId": "a1d9fb42-7674-4ff8-aaeb-8ebc00257381"
      },
      "execution_count": 10,
      "outputs": [
        {
          "output_type": "execute_result",
          "data": {
            "text/plain": [
              "array([ 5,  7,  9, 11, 13])"
            ]
          },
          "metadata": {},
          "execution_count": 10
        }
      ]
    },
    {
      "cell_type": "code",
      "source": [
        "# Operação com escalar\n",
        "arr_1 + 3"
      ],
      "metadata": {
        "colab": {
          "base_uri": "https://localhost:8080/"
        },
        "id": "9vxNbhbwZani",
        "outputId": "4773f021-d1aa-4767-a9eb-147cf4895ac7"
      },
      "execution_count": 15,
      "outputs": [
        {
          "output_type": "execute_result",
          "data": {
            "text/plain": [
              "array([3, 4, 5, 6, 7])"
            ]
          },
          "metadata": {},
          "execution_count": 15
        }
      ]
    },
    {
      "cell_type": "markdown",
      "source": [
        "Comparações"
      ],
      "metadata": {
        "id": "ZSz3Sh8QZzpc"
      }
    },
    {
      "cell_type": "code",
      "source": [
        "arr1 = np.array([1, 2, 3, 4, 5, 6])\n",
        "arr2 = np.array([1, 2, 5, 4, 3, 6])\n",
        "\n",
        "print(arr1)\n",
        "print(arr2)"
      ],
      "metadata": {
        "colab": {
          "base_uri": "https://localhost:8080/"
        },
        "id": "I3YM2BnxZ1td",
        "outputId": "83e81724-f72a-41c9-aa09-d88369efea9c"
      },
      "execution_count": 31,
      "outputs": [
        {
          "output_type": "stream",
          "name": "stdout",
          "text": [
            "[1 2 3 4 5 6]\n",
            "[1 2 5 4 3 6]\n"
          ]
        }
      ]
    },
    {
      "cell_type": "code",
      "source": [
        "# Comparação entre arrays\n",
        "arr1 > arr2"
      ],
      "metadata": {
        "colab": {
          "base_uri": "https://localhost:8080/"
        },
        "id": "wtQ0AD7HaDaG",
        "outputId": "855a6c8e-5214-4762-b986-e76e5215d6ba"
      },
      "execution_count": 32,
      "outputs": [
        {
          "output_type": "execute_result",
          "data": {
            "text/plain": [
              "array([False, False, False, False,  True, False])"
            ]
          },
          "metadata": {},
          "execution_count": 32
        }
      ]
    },
    {
      "cell_type": "code",
      "source": [
        "# Comparação com escalar\n",
        "arr1 > 5"
      ],
      "metadata": {
        "colab": {
          "base_uri": "https://localhost:8080/"
        },
        "id": "g7E2Zs79ava7",
        "outputId": "0d913988-d235-4486-bcd3-d29ef1cce197"
      },
      "execution_count": 33,
      "outputs": [
        {
          "output_type": "execute_result",
          "data": {
            "text/plain": [
              "array([False, False, False, False, False,  True])"
            ]
          },
          "metadata": {},
          "execution_count": 33
        }
      ]
    },
    {
      "cell_type": "code",
      "source": [
        "# Combinação de comparações\n",
        "(arr1 > 2) | (arr1 < 6)"
      ],
      "metadata": {
        "colab": {
          "base_uri": "https://localhost:8080/"
        },
        "id": "932oeZ1Wa4CM",
        "outputId": "b6a50777-9d5a-43a5-f37d-885f515960fe"
      },
      "execution_count": 34,
      "outputs": [
        {
          "output_type": "execute_result",
          "data": {
            "text/plain": [
              "array([ True,  True,  True,  True,  True,  True])"
            ]
          },
          "metadata": {},
          "execution_count": 34
        }
      ]
    },
    {
      "cell_type": "markdown",
      "source": [
        "Indexação e fatiamento"
      ],
      "metadata": {
        "id": "rKow9EzhbFVu"
      }
    },
    {
      "cell_type": "code",
      "source": [
        "arr = np.array([[1, 2, 3], [4, 5, 6], [7, 8, 9]])\n",
        "\n",
        "arr"
      ],
      "metadata": {
        "colab": {
          "base_uri": "https://localhost:8080/"
        },
        "id": "O5uMcnO9bGrr",
        "outputId": "ee967eff-ce6a-41b8-830a-12fc9b1bc79e"
      },
      "execution_count": 35,
      "outputs": [
        {
          "output_type": "execute_result",
          "data": {
            "text/plain": [
              "array([[1, 2, 3],\n",
              "       [4, 5, 6],\n",
              "       [7, 8, 9]])"
            ]
          },
          "metadata": {},
          "execution_count": 35
        }
      ]
    },
    {
      "cell_type": "code",
      "source": [
        "# Indexação por índice com 1 dimensão\n",
        "arr[0]"
      ],
      "metadata": {
        "colab": {
          "base_uri": "https://localhost:8080/"
        },
        "id": "PWX_cPKHbPBK",
        "outputId": "21e7e1bd-07b7-4dc6-c5a9-02ab7ae61f74"
      },
      "execution_count": 36,
      "outputs": [
        {
          "output_type": "execute_result",
          "data": {
            "text/plain": [
              "array([1, 2, 3])"
            ]
          },
          "metadata": {},
          "execution_count": 36
        }
      ]
    },
    {
      "cell_type": "code",
      "source": [
        "# Indexação por índice com mais dimensões\n",
        "arr[0, 1]"
      ],
      "metadata": {
        "colab": {
          "base_uri": "https://localhost:8080/"
        },
        "id": "FTt7N4wrbYj4",
        "outputId": "bce6f614-bdc0-46a9-c101-296714b74c05"
      },
      "execution_count": 37,
      "outputs": [
        {
          "output_type": "execute_result",
          "data": {
            "text/plain": [
              "2"
            ]
          },
          "metadata": {},
          "execution_count": 37
        }
      ]
    },
    {
      "cell_type": "code",
      "source": [
        "# Indexação por fatiamento\n",
        "arr[0, 1:3]"
      ],
      "metadata": {
        "colab": {
          "base_uri": "https://localhost:8080/"
        },
        "id": "r2LwnpAQbjAY",
        "outputId": "a97eb3e2-7b8d-43a6-bf94-677d3c02bad6"
      },
      "execution_count": 38,
      "outputs": [
        {
          "output_type": "execute_result",
          "data": {
            "text/plain": [
              "array([2, 3])"
            ]
          },
          "metadata": {},
          "execution_count": 38
        }
      ]
    },
    {
      "cell_type": "code",
      "source": [
        "# Visualizando linhas\n",
        "arr[1, :]"
      ],
      "metadata": {
        "colab": {
          "base_uri": "https://localhost:8080/"
        },
        "id": "V3JkyjI8b65u",
        "outputId": "3305175f-655b-4233-d12d-c1ce2067480f"
      },
      "execution_count": 39,
      "outputs": [
        {
          "output_type": "execute_result",
          "data": {
            "text/plain": [
              "array([4, 5, 6])"
            ]
          },
          "metadata": {},
          "execution_count": 39
        }
      ]
    },
    {
      "cell_type": "code",
      "source": [
        "# Visualizando colunas\n",
        "arr[:, 1]"
      ],
      "metadata": {
        "colab": {
          "base_uri": "https://localhost:8080/"
        },
        "id": "iy3ZW_0kcDcu",
        "outputId": "bfcb1df7-06fd-4a48-bb11-cead530a5d4b"
      },
      "execution_count": 40,
      "outputs": [
        {
          "output_type": "execute_result",
          "data": {
            "text/plain": [
              "array([2, 5, 8])"
            ]
          },
          "metadata": {},
          "execution_count": 40
        }
      ]
    },
    {
      "cell_type": "code",
      "source": [
        "# Indexação por vetor: array unidimensional\n",
        "arr_unidimensional = arr[arr > 3]"
      ],
      "metadata": {
        "id": "Rbm-55_BcKt2"
      },
      "execution_count": 41,
      "outputs": []
    },
    {
      "cell_type": "code",
      "source": [
        "# Reshape\n",
        "new_arr = arr_unidimensional.reshape((2, 3))\n",
        "new_arr"
      ],
      "metadata": {
        "colab": {
          "base_uri": "https://localhost:8080/"
        },
        "id": "csN5nAM0cObM",
        "outputId": "e2932bc7-fee3-4163-a06b-a07b3aabca8d"
      },
      "execution_count": 42,
      "outputs": [
        {
          "output_type": "execute_result",
          "data": {
            "text/plain": [
              "array([[4, 5, 6],\n",
              "       [7, 8, 9]])"
            ]
          },
          "metadata": {},
          "execution_count": 42
        }
      ]
    },
    {
      "cell_type": "code",
      "source": [
        "# Referencia: Alterando copia da fatia\n",
        "arr_cp = new_arr.copy()\n",
        "arr_cp[:, 1] = -1\n",
        "new_arr"
      ],
      "metadata": {
        "colab": {
          "base_uri": "https://localhost:8080/"
        },
        "id": "olzfsjVhcTgt",
        "outputId": "d4047da7-ba3b-458a-9f70-8d9d387f77cc"
      },
      "execution_count": 45,
      "outputs": [
        {
          "output_type": "execute_result",
          "data": {
            "text/plain": [
              "array([[4, 5, 6],\n",
              "       [7, 8, 9]])"
            ]
          },
          "metadata": {},
          "execution_count": 45
        }
      ]
    },
    {
      "cell_type": "code",
      "source": [
        "arr_unidimensional"
      ],
      "metadata": {
        "colab": {
          "base_uri": "https://localhost:8080/"
        },
        "id": "0tc_Atafcd6d",
        "outputId": "ef23c8c7-a0bb-4c4e-acce-decab3163710"
      },
      "execution_count": 46,
      "outputs": [
        {
          "output_type": "execute_result",
          "data": {
            "text/plain": [
              "array([4, 5, 6, 7, 8, 9])"
            ]
          },
          "metadata": {},
          "execution_count": 46
        }
      ]
    },
    {
      "cell_type": "code",
      "source": [
        "# Referencia: Alterando a fatia\n",
        "new_arr[:, 1] = -1\n",
        "new_arr"
      ],
      "metadata": {
        "colab": {
          "base_uri": "https://localhost:8080/"
        },
        "id": "HHy8njCucyg0",
        "outputId": "2769630a-eb4b-4ed7-be6a-4ab89f233719"
      },
      "execution_count": 47,
      "outputs": [
        {
          "output_type": "execute_result",
          "data": {
            "text/plain": [
              "array([[ 4, -1,  6],\n",
              "       [ 7, -1,  9]])"
            ]
          },
          "metadata": {},
          "execution_count": 47
        }
      ]
    },
    {
      "cell_type": "code",
      "source": [
        "# Olhando array unidimensional\n",
        "arr_unidimensional"
      ],
      "metadata": {
        "colab": {
          "base_uri": "https://localhost:8080/"
        },
        "id": "X0WgC644dKqz",
        "outputId": "0691dacd-de8e-4df6-d193-9f817d694763"
      },
      "execution_count": 48,
      "outputs": [
        {
          "output_type": "execute_result",
          "data": {
            "text/plain": [
              "array([ 4, -1,  6,  7, -1,  9])"
            ]
          },
          "metadata": {},
          "execution_count": 48
        }
      ]
    },
    {
      "cell_type": "markdown",
      "source": [
        "**Estatística para numpy**\n",
        "\n",
        "Estatísticas descritivas"
      ],
      "metadata": {
        "id": "a_aG2AZ1dPUg"
      }
    },
    {
      "cell_type": "code",
      "source": [
        "arr = np.linspace(0, 20, 21)\n",
        "arr"
      ],
      "metadata": {
        "colab": {
          "base_uri": "https://localhost:8080/"
        },
        "id": "ZmMvlZzrdSAJ",
        "outputId": "4572ec41-1afc-462d-d8d6-0f7cea542cc1"
      },
      "execution_count": 49,
      "outputs": [
        {
          "output_type": "execute_result",
          "data": {
            "text/plain": [
              "array([ 0.,  1.,  2.,  3.,  4.,  5.,  6.,  7.,  8.,  9., 10., 11., 12.,\n",
              "       13., 14., 15., 16., 17., 18., 19., 20.])"
            ]
          },
          "metadata": {},
          "execution_count": 49
        }
      ]
    },
    {
      "cell_type": "code",
      "source": [
        "# Média\n",
        "arr.mean()"
      ],
      "metadata": {
        "colab": {
          "base_uri": "https://localhost:8080/"
        },
        "id": "EOLptra-dZej",
        "outputId": "2ce77994-ba71-4fb6-90f6-a621fe1c5d56"
      },
      "execution_count": 50,
      "outputs": [
        {
          "output_type": "execute_result",
          "data": {
            "text/plain": [
              "10.0"
            ]
          },
          "metadata": {},
          "execution_count": 50
        }
      ]
    },
    {
      "cell_type": "code",
      "source": [
        "# Máximo\n",
        "arr.max()"
      ],
      "metadata": {
        "colab": {
          "base_uri": "https://localhost:8080/"
        },
        "id": "eFND2DwEdc2j",
        "outputId": "db700ff1-d887-4fcb-b65e-6570efbe7165"
      },
      "execution_count": 51,
      "outputs": [
        {
          "output_type": "execute_result",
          "data": {
            "text/plain": [
              "20.0"
            ]
          },
          "metadata": {},
          "execution_count": 51
        }
      ]
    },
    {
      "cell_type": "code",
      "source": [
        "# Mínimo\n",
        "arr.min()"
      ],
      "metadata": {
        "colab": {
          "base_uri": "https://localhost:8080/"
        },
        "id": "d5xCdPEadjIv",
        "outputId": "be612899-f20e-47d2-9e93-3db7aa7e0575"
      },
      "execution_count": 52,
      "outputs": [
        {
          "output_type": "execute_result",
          "data": {
            "text/plain": [
              "0.0"
            ]
          },
          "metadata": {},
          "execution_count": 52
        }
      ]
    },
    {
      "cell_type": "code",
      "source": [
        "# Índice máx\n",
        "arr.argmax()"
      ],
      "metadata": {
        "colab": {
          "base_uri": "https://localhost:8080/"
        },
        "id": "ce1IrGdHdmo1",
        "outputId": "28004f6c-01e3-425b-be13-9bf2994b1b25"
      },
      "execution_count": 53,
      "outputs": [
        {
          "output_type": "execute_result",
          "data": {
            "text/plain": [
              "20"
            ]
          },
          "metadata": {},
          "execution_count": 53
        }
      ]
    },
    {
      "cell_type": "code",
      "source": [
        "# Índice min\n",
        "arr.argmin()"
      ],
      "metadata": {
        "colab": {
          "base_uri": "https://localhost:8080/"
        },
        "id": "mHs8hGVVdrM-",
        "outputId": "11d5be57-0072-4596-9661-5506f1b19317"
      },
      "execution_count": 54,
      "outputs": [
        {
          "output_type": "execute_result",
          "data": {
            "text/plain": [
              "0"
            ]
          },
          "metadata": {},
          "execution_count": 54
        }
      ]
    },
    {
      "cell_type": "code",
      "source": [
        "# Desvio padrao\n",
        "arr.std()"
      ],
      "metadata": {
        "colab": {
          "base_uri": "https://localhost:8080/"
        },
        "id": "HxVxskA-duX7",
        "outputId": "a007f92e-b610-41b9-8208-88a03888e7c1"
      },
      "execution_count": 55,
      "outputs": [
        {
          "output_type": "execute_result",
          "data": {
            "text/plain": [
              "6.0553007081949835"
            ]
          },
          "metadata": {},
          "execution_count": 55
        }
      ]
    },
    {
      "cell_type": "code",
      "source": [
        "# Soma\n",
        "arr.sum()"
      ],
      "metadata": {
        "colab": {
          "base_uri": "https://localhost:8080/"
        },
        "id": "DO_mc85bdxhD",
        "outputId": "976cea15-a5b1-4b6d-bbba-17617d20aec8"
      },
      "execution_count": 56,
      "outputs": [
        {
          "output_type": "execute_result",
          "data": {
            "text/plain": [
              "210.0"
            ]
          },
          "metadata": {},
          "execution_count": 56
        }
      ]
    },
    {
      "cell_type": "code",
      "source": [
        "# Soma cumulativa\n",
        "arr.cumsum()"
      ],
      "metadata": {
        "colab": {
          "base_uri": "https://localhost:8080/"
        },
        "id": "zQegHrSud0gj",
        "outputId": "4b9a2679-b04a-425f-b095-2944e3767d1b"
      },
      "execution_count": 57,
      "outputs": [
        {
          "output_type": "execute_result",
          "data": {
            "text/plain": [
              "array([  0.,   1.,   3.,   6.,  10.,  15.,  21.,  28.,  36.,  45.,  55.,\n",
              "        66.,  78.,  91., 105., 120., 136., 153., 171., 190., 210.])"
            ]
          },
          "metadata": {},
          "execution_count": 57
        }
      ]
    },
    {
      "cell_type": "markdown",
      "source": [
        "**Mini - exercício**\n",
        "\n",
        "Selecione os valores que se distanciam da média até um desvio padrão"
      ],
      "metadata": {
        "id": "_rav-kVLd8fa"
      }
    },
    {
      "cell_type": "code",
      "source": [
        "bool_idx = (arr > arr.mean() - arr.std() ) & (arr < arr.mean() + arr.std() )\n",
        "bool_idx"
      ],
      "metadata": {
        "colab": {
          "base_uri": "https://localhost:8080/"
        },
        "id": "V2Wn1KrCd-3P",
        "outputId": "c81ba295-6c07-4ef9-aa12-4f81e593d73d"
      },
      "execution_count": 62,
      "outputs": [
        {
          "output_type": "execute_result",
          "data": {
            "text/plain": [
              "array([False, False, False, False,  True,  True,  True,  True,  True,\n",
              "        True,  True,  True,  True,  True,  True,  True,  True, False,\n",
              "       False, False, False])"
            ]
          },
          "metadata": {},
          "execution_count": 62
        }
      ]
    },
    {
      "cell_type": "markdown",
      "source": [
        "Funções universais"
      ],
      "metadata": {
        "id": "2gunPodffAfF"
      }
    },
    {
      "cell_type": "code",
      "source": [
        "# Mediana\n",
        "np.median(arr)"
      ],
      "metadata": {
        "colab": {
          "base_uri": "https://localhost:8080/"
        },
        "id": "g5kwuvWtfBO8",
        "outputId": "076bbee8-692d-4968-9725-a2835a46f4b7"
      },
      "execution_count": 63,
      "outputs": [
        {
          "output_type": "execute_result",
          "data": {
            "text/plain": [
              "10.0"
            ]
          },
          "metadata": {},
          "execution_count": 63
        }
      ]
    },
    {
      "cell_type": "code",
      "source": [
        "# Percentil\n",
        "np.percentile(arr, 33)"
      ],
      "metadata": {
        "colab": {
          "base_uri": "https://localhost:8080/"
        },
        "id": "hyElWosGfH3B",
        "outputId": "2747cc72-f9e0-46c7-f376-daaf6bcf691c"
      },
      "execution_count": 64,
      "outputs": [
        {
          "output_type": "execute_result",
          "data": {
            "text/plain": [
              "6.6000000000000005"
            ]
          },
          "metadata": {},
          "execution_count": 64
        }
      ]
    },
    {
      "cell_type": "code",
      "source": [
        "# seno\n",
        "arr = np.array([0, np.pi / 2])\n",
        "np.sin(arr)"
      ],
      "metadata": {
        "colab": {
          "base_uri": "https://localhost:8080/"
        },
        "id": "dQ0tnaL-fKvI",
        "outputId": "5bd16120-18f7-491c-f348-2db2503d88ac"
      },
      "execution_count": 66,
      "outputs": [
        {
          "output_type": "execute_result",
          "data": {
            "text/plain": [
              "array([0., 1.])"
            ]
          },
          "metadata": {},
          "execution_count": 66
        }
      ]
    },
    {
      "cell_type": "code",
      "source": [
        "# Adição de arrays\n",
        "arr1 = np.array([9, 9, 9, 9, 9])\n",
        "arr2 = np.array([6, 7, 8, 9, 10])\n",
        "\n",
        "np.add(arr1, arr2)"
      ],
      "metadata": {
        "colab": {
          "base_uri": "https://localhost:8080/"
        },
        "id": "G07-_-6Qfyq9",
        "outputId": "2f2f0407-3219-44f0-ff12-951bea9ba952"
      },
      "execution_count": 67,
      "outputs": [
        {
          "output_type": "execute_result",
          "data": {
            "text/plain": [
              "array([15, 16, 17, 18, 19])"
            ]
          },
          "metadata": {},
          "execution_count": 67
        }
      ]
    },
    {
      "cell_type": "code",
      "source": [
        "#maximum\n",
        "np.maximum(arr1, arr2)"
      ],
      "metadata": {
        "colab": {
          "base_uri": "https://localhost:8080/"
        },
        "id": "c-9FnGiQf5Mo",
        "outputId": "a829ebc0-3fce-428a-cb3e-a6675d93607b"
      },
      "execution_count": 68,
      "outputs": [
        {
          "output_type": "execute_result",
          "data": {
            "text/plain": [
              "array([ 9,  9,  9,  9, 10])"
            ]
          },
          "metadata": {},
          "execution_count": 68
        }
      ]
    },
    {
      "cell_type": "code",
      "source": [
        "# modf\n",
        "arr = np.random.uniform(0.0, 10.0, 6)\n",
        "np.modf(arr)"
      ],
      "metadata": {
        "colab": {
          "base_uri": "https://localhost:8080/"
        },
        "id": "_rjL5Hbuf-HH",
        "outputId": "f324d74b-1cb5-4128-ad59-eec97fb90323"
      },
      "execution_count": 73,
      "outputs": [
        {
          "output_type": "execute_result",
          "data": {
            "text/plain": [
              "(array([0.75946425, 0.7443942 , 0.50879058, 0.90992322, 0.54396897,\n",
              "        0.60840833]),\n",
              " array([8., 0., 6., 2., 1., 2.]))"
            ]
          },
          "metadata": {},
          "execution_count": 73
        }
      ]
    },
    {
      "cell_type": "markdown",
      "source": [
        "Algebra Linear"
      ],
      "metadata": {
        "id": "FeL9mq6OgE5u"
      }
    },
    {
      "cell_type": "code",
      "source": [
        "mtx = np.eye(3) + [1, 1.5, 3]\n",
        "mtx\n"
      ],
      "metadata": {
        "colab": {
          "base_uri": "https://localhost:8080/"
        },
        "id": "Sw51e_72gGH5",
        "outputId": "a9d9ae8b-d71e-466c-e161-0de215d11830"
      },
      "execution_count": 70,
      "outputs": [
        {
          "output_type": "execute_result",
          "data": {
            "text/plain": [
              "array([[2. , 1.5, 3. ],\n",
              "       [1. , 2.5, 3. ],\n",
              "       [1. , 1.5, 4. ]])"
            ]
          },
          "metadata": {},
          "execution_count": 70
        }
      ]
    },
    {
      "cell_type": "code",
      "source": [
        "vet = np.array([1, 2, 3])\n",
        "vet"
      ],
      "metadata": {
        "colab": {
          "base_uri": "https://localhost:8080/"
        },
        "id": "QsElitXxgo8H",
        "outputId": "a1b460c0-526c-46fc-91a4-6ccf5d3cc97b"
      },
      "execution_count": 74,
      "outputs": [
        {
          "output_type": "execute_result",
          "data": {
            "text/plain": [
              "array([1, 2, 3])"
            ]
          },
          "metadata": {},
          "execution_count": 74
        }
      ]
    },
    {
      "cell_type": "code",
      "source": [
        "# Multiplicação de matrizes: .dot e @\n",
        "mtx.dot(vet)"
      ],
      "metadata": {
        "colab": {
          "base_uri": "https://localhost:8080/"
        },
        "id": "yIf1i9yOgt-G",
        "outputId": "5e9eb5f7-d2ab-41ba-fef5-629485a48b4f"
      },
      "execution_count": 75,
      "outputs": [
        {
          "output_type": "execute_result",
          "data": {
            "text/plain": [
              "array([14., 15., 16.])"
            ]
          },
          "metadata": {},
          "execution_count": 75
        }
      ]
    },
    {
      "cell_type": "code",
      "source": [
        "\n",
        "mtx @ vet"
      ],
      "metadata": {
        "colab": {
          "base_uri": "https://localhost:8080/"
        },
        "id": "TTTK_CGHgxZC",
        "outputId": "fbdc7c18-3b3e-431e-ba1b-aae9180e2acd"
      },
      "execution_count": 77,
      "outputs": [
        {
          "output_type": "execute_result",
          "data": {
            "text/plain": [
              "array([14., 15., 16.])"
            ]
          },
          "metadata": {},
          "execution_count": 77
        }
      ]
    },
    {
      "cell_type": "code",
      "source": [
        "# Determinante\n",
        "np.linalg.det(mtx)"
      ],
      "metadata": {
        "colab": {
          "base_uri": "https://localhost:8080/"
        },
        "id": "9AxovtWog3eB",
        "outputId": "cfcf3c35-7c69-4de5-dc1a-46b122fc6e12"
      },
      "execution_count": 78,
      "outputs": [
        {
          "output_type": "execute_result",
          "data": {
            "text/plain": [
              "6.500000000000001"
            ]
          },
          "metadata": {},
          "execution_count": 78
        }
      ]
    },
    {
      "cell_type": "code",
      "source": [
        "# Transposição\n",
        "\n",
        "mtx.T"
      ],
      "metadata": {
        "colab": {
          "base_uri": "https://localhost:8080/"
        },
        "id": "aFhYb3qpg7oL",
        "outputId": "c5638fcc-b22e-4cfa-9c37-7009c58b2360"
      },
      "execution_count": 81,
      "outputs": [
        {
          "output_type": "execute_result",
          "data": {
            "text/plain": [
              "array([[2. , 1. , 1. ],\n",
              "       [1.5, 2.5, 1.5],\n",
              "       [3. , 3. , 4. ]])"
            ]
          },
          "metadata": {},
          "execution_count": 81
        }
      ]
    },
    {
      "cell_type": "code",
      "source": [
        "# Matriz inversa\n",
        "np.linalg.inv(mtx)"
      ],
      "metadata": {
        "colab": {
          "base_uri": "https://localhost:8080/"
        },
        "id": "zWRrKRw-g_HF",
        "outputId": "46fad8b3-7208-4cc3-dc73-c8794a43f439"
      },
      "execution_count": 80,
      "outputs": [
        {
          "output_type": "execute_result",
          "data": {
            "text/plain": [
              "array([[ 0.84615385, -0.23076923, -0.46153846],\n",
              "       [-0.15384615,  0.76923077, -0.46153846],\n",
              "       [-0.15384615, -0.23076923,  0.53846154]])"
            ]
          },
          "metadata": {},
          "execution_count": 80
        }
      ]
    },
    {
      "cell_type": "markdown",
      "source": [
        "**Exercícios**\n",
        "\n",
        "Exercício 1"
      ],
      "metadata": {
        "id": "oylNNp_FhETZ"
      }
    },
    {
      "cell_type": "markdown",
      "source": [
        "Faça uma função que receba um array como entrada, remova o primeiro e o último elementos do array e retorne um novo array contendo os elementos restantes."
      ],
      "metadata": {
        "id": "umc14-TWhLFr"
      }
    },
    {
      "cell_type": "code",
      "source": [
        "# Código\n",
        "\n",
        "original = np.array([2, 5, 7, 9, 1, 4, 6])\n",
        "\n"
      ],
      "metadata": {
        "id": "LllHsI5hhL_3"
      },
      "execution_count": 82,
      "outputs": []
    },
    {
      "cell_type": "code",
      "source": [
        "import numpy as np\n",
        "\n",
        "def eliminaExtremos(original):\n",
        "  return original[1:-1]\n",
        "\n",
        "# Exemplo\n",
        "original = np.array([2, 5, 7, 9, 1, 4, 6])\n",
        "print(eliminaExtremos(original))"
      ],
      "metadata": {
        "colab": {
          "base_uri": "https://localhost:8080/"
        },
        "id": "vJhyfAiqhWH2",
        "outputId": "cfba6094-f836-44f7-ca89-154ecbc5df12"
      },
      "execution_count": 83,
      "outputs": [
        {
          "output_type": "stream",
          "name": "stdout",
          "text": [
            "[5 7 9 1 4]\n"
          ]
        }
      ]
    },
    {
      "cell_type": "markdown",
      "source": [
        "**Exercício 2**\n",
        "\n",
        "Crie um array com elementos de 0 a 100 e calcule a soma de todos os valores pares."
      ],
      "metadata": {
        "id": "qUnj_hWphtS-"
      }
    },
    {
      "cell_type": "code",
      "source": [
        "import numpy as np\n",
        "\n",
        "numeros = np.arange(101)\n",
        "somaPares = np.sum(numeros[numeros % 2 == 0])\n",
        "\n",
        "print(somaPares)"
      ],
      "metadata": {
        "colab": {
          "base_uri": "https://localhost:8080/"
        },
        "id": "3zEVFZZ6hxPt",
        "outputId": "903962e5-0b6c-40f0-ec46-363b3bc4dd58"
      },
      "execution_count": 84,
      "outputs": [
        {
          "output_type": "stream",
          "name": "stdout",
          "text": [
            "2550\n"
          ]
        }
      ]
    },
    {
      "cell_type": "markdown",
      "source": [
        "**Exercício 3**\n",
        "\n",
        "Gere um array A contendo todos os números ímpares entre 0 e 100. A partir de A, crie outro array que contenha a soma cumulativa dos elementos de A que são divisíveis por 3 e 5 simultaneamente."
      ],
      "metadata": {
        "id": "S21mLfzOh6nr"
      }
    },
    {
      "cell_type": "code",
      "source": [
        "import numpy as np\n",
        "\n",
        "impares = np.arange(1, 101, 2)\n",
        "\n",
        "multiplos3e5 = impares[(impares % 3 == 0) & (impares % 5 == 0)]\n",
        "somaCumulativa = np.cumsum(multiplos3e5)\n",
        "\n",
        "print(somaCumulativa)\n",
        ""
      ],
      "metadata": {
        "colab": {
          "base_uri": "https://localhost:8080/"
        },
        "id": "ejreNgG0h8vB",
        "outputId": "2034c11c-4399-4e5e-e06e-5700bfea66cf"
      },
      "execution_count": 85,
      "outputs": [
        {
          "output_type": "stream",
          "name": "stdout",
          "text": [
            "[ 15  60 135]\n"
          ]
        }
      ]
    },
    {
      "cell_type": "markdown",
      "source": [
        "**Exercício 4**\n",
        "\n",
        "Faça uma função que dados dois vetores (valores e pesos), calcule a média ponderada de valores com seus respectivos pesos.\n",
        "\n",
        "Observação: não é permitido utilizar a função np.average do NumPy"
      ],
      "metadata": {
        "id": "8NrWOKa6ix6J"
      }
    },
    {
      "cell_type": "code",
      "source": [
        "# Código\n",
        "\n",
        "valores = np.array([1, 2, 5])\n",
        "pesos = np.array([3, 2, 1])"
      ],
      "metadata": {
        "id": "JjGuYt8Vi0TP"
      },
      "execution_count": 86,
      "outputs": []
    },
    {
      "cell_type": "code",
      "source": [
        "import numpy as np\n",
        "\n",
        "def calculaMediaPonderada(valores, pesos):\n",
        "  multiplicadoPesos = valores * pesos\n",
        "  somaPesos = np.sum(pesos)\n",
        "  mediaPonderada = np.sum(multiplicadoPesos) / somaPesos\n",
        "  return mediaPonderada\n",
        "\n",
        "valores = np.array([1, 2, 5])\n",
        "pesos = np.array([3, 2, 1])\n",
        "\n",
        "print(calculaMediaPonderada(valores, pesos))"
      ],
      "metadata": {
        "colab": {
          "base_uri": "https://localhost:8080/"
        },
        "id": "XHIGFdg0i9gq",
        "outputId": "be22ee3f-438e-460d-b9dc-ec2cbc3c0cfb"
      },
      "execution_count": 87,
      "outputs": [
        {
          "output_type": "stream",
          "name": "stdout",
          "text": [
            "2.0\n"
          ]
        }
      ]
    },
    {
      "cell_type": "markdown",
      "source": [
        "**Exercício 5**\n",
        "\n",
        "Considere um array bidimensional no qual cada vetor de uma dimensão possui 3 pontuações que um jogador recebeu em 3 provas distintas. Faça uma função que dado esse array, retorne a prova com maior soma de pontuações."
      ],
      "metadata": {
        "id": "6w1he9qBjNX-"
      }
    },
    {
      "cell_type": "code",
      "source": [
        "import numpy as np\n",
        "\n",
        "def maiorPontuacao(pontuacoes):\n",
        "  pontuacoesNP = np.array(pontuacoes)\n",
        "  somaPorProva = np.sum(pontuacoesNP, axis = 0)\n",
        "  maiorSoma = np.max(somaPorProva)\n",
        "  return maiorSoma\n",
        "\n",
        "# Exemplo para 3 jogadores\n",
        "pontuacoes = [[6.5, 7.8, 5.4], [9.5, 8.8, 9.1], [4.5, 7.3, 5.9]]\n",
        "\n",
        "print(\"%.1f\" % ((maiorPontuacao(pontuacoes))))"
      ],
      "metadata": {
        "colab": {
          "base_uri": "https://localhost:8080/"
        },
        "id": "2MdjE7qEjR4e",
        "outputId": "6fe8d7e1-364f-49db-ce58-334b43c983fa"
      },
      "execution_count": 88,
      "outputs": [
        {
          "output_type": "stream",
          "name": "stdout",
          "text": [
            "23.9\n"
          ]
        }
      ]
    },
    {
      "cell_type": "markdown",
      "source": [
        "**Exercício 6**\n",
        "\n",
        "Você é um professor e está organizando as notas de seus alunos. Para tanto, você precisa realizar algumas tarefas, como:\n",
        "\n",
        "Determinar a média das notas\n",
        "Determinar a maior e a menor notas e os alunos que as tiraram\n",
        "Determinar as notas dos alunos aprovados e reprovados\n",
        "Considere que são aprovados os alunos com notas maiores ou iguais a 5.0."
      ],
      "metadata": {
        "id": "oazNAXOgjdsx"
      }
    },
    {
      "cell_type": "code",
      "source": [
        "import numpy as np\n",
        "\n",
        "def analisaNotas(notas):\n",
        "  media = np.mean(notas)\n",
        "  maiorNota = np.max(notas)\n",
        "  menorNota = np.min(notas)\n",
        "  maiorNotaAluno = np.argmax(notas)\n",
        "  menorNotaAluno = np.argmin(notas)\n",
        "\n",
        "  notaCorte = 5.0\n",
        "\n",
        "  alunosAprovados = notas[notas >= notaCorte]\n",
        "  alunosReprovados = notas[notas < notaCorte]\n",
        "\n",
        "  print(f\"Média das notas: %.1f\" % (media))\n",
        "  print(f\"Maior nota: {maiorNota} - Aluno: {maiorNotaAluno}\")\n",
        "  print(f\"Menor nota: {menorNota} - Aluno: {menorNotaAluno}\")\n",
        "  print(f\"Notas dos Alunos aprovados: {alunosAprovados}\")\n",
        "  print(f\"Notas dos Alunos reprovados: {alunosReprovados}\")\n",
        "\n",
        "notas = np.array([2.5, 7.8, 6.7, 9.4, 3.8, 5.1, 4.4, 8.2])\n",
        "\n",
        "analisaNotas(notas)"
      ],
      "metadata": {
        "colab": {
          "base_uri": "https://localhost:8080/"
        },
        "id": "deV_0lqXjgFB",
        "outputId": "ece75618-9117-4dd2-d58a-eb9aeb033101"
      },
      "execution_count": 89,
      "outputs": [
        {
          "output_type": "stream",
          "name": "stdout",
          "text": [
            "Média das notas: 6.0\n",
            "Maior nota: 9.4 - Aluno: 3\n",
            "Menor nota: 2.5 - Aluno: 0\n",
            "Notas dos Alunos aprovados: [7.8 6.7 9.4 5.1 8.2]\n",
            "Notas dos Alunos reprovados: [2.5 3.8 4.4]\n"
          ]
        }
      ]
    },
    {
      "cell_type": "markdown",
      "source": [
        "**Exercício 7**\n",
        "\n",
        "Um quadrado mágico é todo quadrado de lado\n",
        " em que os inteiros de 1 a\n",
        " aparecem sem repetição e em que as somas dos elementos das linhas, colunas e diagonais são iguais.\n",
        "\n",
        "Faça uma função que recebe uma matriz quadrada e que verifique se ela é um quadrado mágico ou não.\n",
        "\n",
        "Exemplo: O quadrado\n",
        "\n",
        " é um quadrado mágico. Observe que as linhas, colunas e diagonais possuem soma igual a 15."
      ],
      "metadata": {
        "id": "NNp3ioPvju8E"
      }
    },
    {
      "cell_type": "code",
      "source": [
        "# Código\n",
        "\n",
        "quadradoMagico = np.array([[2, 7, 6], [9, 5, 1], [4, 3, 8]])\n",
        "quadradoNaoMagico = np.array([[1, 2, 3], [4, 5, 6], [7, 8, 9]])"
      ],
      "metadata": {
        "id": "aRoUPgTvjx0G"
      },
      "execution_count": 90,
      "outputs": []
    },
    {
      "cell_type": "code",
      "source": [
        "import numpy as np\n",
        "\n",
        "# Retorna True se quadrado mágico\n",
        "# Retorna False caso contrário\n",
        "def verificaQuadradoMagico(quadrado):\n",
        "  n = quadrado.shape[0]\n",
        "\n",
        "  # .flatten() cria uma cópia em 1 dimensão de \"quadrado\"\n",
        "  quadradoUnidimensional = quadrado.flatten()\n",
        "\n",
        "  # Ordena quadradoUnidimensional em ordem crescente\n",
        "  # Verifica se quadradoUnidimensional e o vetor de 1 a n^2 são iguais\n",
        "  if not np.array_equal(np.sort(quadradoUnidimensional), np.arange(1, n**2 + 1)):\n",
        "    return False\n",
        "\n",
        "  # Pega a soma da primeira linha como base\n",
        "  soma = np.sum(quadrado[0, :])\n",
        "\n",
        "  # Verifica se todas as colunas (axis = 1) possuem a mesma soma\n",
        "  if not np.all(np.sum(quadrado, axis = 1) == soma):\n",
        "    return False\n",
        "\n",
        "  # Verifica se todas as linhas (axis = 0) possuem a mesma soma\n",
        "  if not np.all(np.sum(quadrado, axis = 0) == soma):\n",
        "    return False\n",
        "\n",
        "  # Veriica se a diagonal principal possui a mesma soma\n",
        "  if np.sum(np.diag(quadrado)) != soma:\n",
        "    return False\n",
        "\n",
        "  # Veriica se a diagonal secundária possui a mesma soma\n",
        "  if np.sum(np.diag(np.fliplr(quadrado))) != soma:\n",
        "    return False\n",
        "\n",
        "  return True\n",
        "\n",
        "quadradoMagico = np.array([[2, 7, 6], [9, 5, 1], [4, 3, 8]])\n",
        "quadradoNaoMagico = np.array([[1, 2, 3], [4, 5, 6], [7, 8, 9]])\n",
        "\n",
        "if verificaQuadradoMagico(quadradoMagico):\n",
        "  print(\"É um quadrado mágico.\")\n",
        "else:\n",
        "  print(\"Não é um quadrado mágico.\")\n",
        "\n",
        "if verificaQuadradoMagico(quadradoNaoMagico):\n",
        "  print(\"É um quadrado mágico.\")\n",
        "else:\n",
        "  print(\"Não é um quadrado mágico.\")"
      ],
      "metadata": {
        "colab": {
          "base_uri": "https://localhost:8080/"
        },
        "id": "5Ckus_F4j-Im",
        "outputId": "fc4832e3-0d26-41f9-8df4-420ae98b3916"
      },
      "execution_count": 91,
      "outputs": [
        {
          "output_type": "stream",
          "name": "stdout",
          "text": [
            "É um quadrado mágico.\n",
            "Não é um quadrado mágico.\n"
          ]
        }
      ]
    }
  ]
}